{
 "cells": [
  {
   "cell_type": "markdown",
   "metadata": {},
   "source": [
    "# Sequence vs. Numpy Array"
   ]
  },
  {
   "cell_type": "code",
   "execution_count": 103,
   "metadata": {},
   "outputs": [
    {
     "name": "stdout",
     "output_type": "stream",
     "text": [
      "[0, 1, 2, 0, 1, 2]\n",
      "[0 2 4]\n"
     ]
    }
   ],
   "source": [
    "x = [0, 1, 2]*2            ; print(x)\n",
    "x = np.array([0, 1, 2])*2 ; print(x)"
   ]
  },
  {
   "cell_type": "markdown",
   "metadata": {},
   "source": [
    "# Array Creation "
   ]
  },
  {
   "cell_type": "code",
   "execution_count": 27,
   "metadata": {},
   "outputs": [
    {
     "name": "stdout",
     "output_type": "stream",
     "text": [
      "[0.e+000 5.e-324 1.e-323]\n",
      "[0. 0. 0.]\n",
      "[1. 1. 1.]\n",
      "[2.2 2.2 2.2]\n",
      "[2 2 2]\n",
      "[0 1 2]\n",
      "[0 1 2]\n"
     ]
    }
   ],
   "source": [
    "import numpy as np\n",
    "\n",
    "a = np.empty(3)         ; print(a)\n",
    "a = np.zeros(3)         ; print(a)\n",
    "a = np.ones(3)          ; print(a)\n",
    "a = np.full(3, 2.2)     ; print(a)\n",
    "a = np.full(3, 2)       ; print(a)\n",
    "a = np.arange(3)        ; print(a)\n",
    "a = np.array([0, 1, 2]) ; print(a)"
   ]
  },
  {
   "cell_type": "markdown",
   "metadata": {},
   "source": [
    "# Same Data Type"
   ]
  },
  {
   "cell_type": "code",
   "execution_count": 28,
   "metadata": {},
   "outputs": [
    {
     "name": "stdout",
     "output_type": "stream",
     "text": [
      "[1.e+000 5.e-324 1.e-323]\n",
      "[1.e+000 5.e-324 1.e-323]\n"
     ]
    }
   ],
   "source": [
    "import numpy as np\n",
    "\n",
    "a = np.empty(3)\n",
    "print(a)\n",
    "a[0] = int(1)\n",
    "print(a)"
   ]
  },
  {
   "cell_type": "code",
   "execution_count": 29,
   "metadata": {},
   "outputs": [
    {
     "name": "stdout",
     "output_type": "stream",
     "text": [
      "['1' '2.0' 'NTHU']\n"
     ]
    }
   ],
   "source": [
    "import numpy as np\n",
    "\n",
    "a = np.array([1,2.,'NTHU'])\n",
    "print(a)"
   ]
  },
  {
   "cell_type": "markdown",
   "metadata": {},
   "source": [
    "# dtype"
   ]
  },
  {
   "cell_type": "code",
   "execution_count": 39,
   "metadata": {},
   "outputs": [
    {
     "name": "stdout",
     "output_type": "stream",
     "text": [
      "[                  0 4607182418800017408 4611686018427387904]\n",
      "[0 0 0]\n",
      "[1 1 1]\n",
      "[2 2 2]\n",
      "[2. 2. 2.]\n",
      "[0. 1. 2.]\n",
      "[0. 1. 2.]\n"
     ]
    }
   ],
   "source": [
    "import numpy as np\n",
    "\n",
    "a = np.empty(3, dtype = int)           ; print(a)\n",
    "a = np.zeros(3, dtype = int)           ; print(a)\n",
    "a = np.ones(3, dtype = int)            ; print(a)\n",
    "a = np.full(3, 2.2, dtype = int)       ; print(a)\n",
    "a = np.full(3, 2, dtype = float)       ; print(a)\n",
    "a = np.arange(3, dtype = float)        ; print(a)\n",
    "a = np.array([0, 1, 2], dtype = float) ; print(a)"
   ]
  },
  {
   "cell_type": "markdown",
   "metadata": {},
   "source": [
    "# N-dimension Array"
   ]
  },
  {
   "cell_type": "code",
   "execution_count": 48,
   "metadata": {
    "scrolled": false
   },
   "outputs": [
    {
     "name": "stdout",
     "output_type": "stream",
     "text": [
      "empty:\n",
      " [[1.e-323 1.e-323 1.e-323]\n",
      " [1.e-323 1.e-323 1.e-323]\n",
      " [1.e-323 1.e-323 1.e-323]]\n",
      "zeros:\n",
      " [[0. 0. 0.]\n",
      " [0. 0. 0.]\n",
      " [0. 0. 0.]]\n",
      "ones:\n",
      " [[1. 1. 1.]\n",
      " [1. 1. 1.]\n",
      " [1. 1. 1.]]\n",
      "full:\n",
      " [[2 2 2]\n",
      " [2 2 2]\n",
      " [2 2 2]]\n",
      "array:\n",
      " [[0 1 2]\n",
      " [4 5 6]\n",
      " [7 8 9]]\n"
     ]
    }
   ],
   "source": [
    "import numpy as np\n",
    "\n",
    "a = np.empty((3,3))                             ; print(\"empty:\\n\", a)\n",
    "a = np.zeros((3,3))                             ; print(\"zeros:\\n\", a)\n",
    "a = np.ones((3,3))                              ; print(\"ones:\\n\", a)\n",
    "a = np.full((3,3), 2)                           ; print(\"full:\\n\", a)\n",
    "a = np.array([ [0, 1, 2],[3, 4, 5],[6, 7, 8] ]) ; print(\"array:\\n\", a)"
   ]
  },
  {
   "cell_type": "code",
   "execution_count": 63,
   "metadata": {},
   "outputs": [
    {
     "name": "stdout",
     "output_type": "stream",
     "text": [
      "array:\n",
      " [[0 1 2]\n",
      " [3 4 5]\n",
      " [6 7 8]]\n",
      "array:\n",
      " [[0 1 2]\n",
      " [3 4 5]\n",
      " [6 7 8]]\n",
      "array:\n",
      " [[0 1 2]\n",
      " [3 4 5]\n",
      " [6 7 8]]\n"
     ]
    }
   ],
   "source": [
    "a = np.array([ [0, 1, 2],[3, 4, 5],[6, 7, 8] ])            ; print(\"array:\\n\", a)\n",
    "a = np.array([ [0, 1, 2, 3, 4, 5, 6, 7, 8] ]).reshape(3,3) ; print(\"array:\\n\", a)\n",
    "a = np.arange(9).reshape(3,3)                              ; print(\"array:\\n\", a)"
   ]
  },
  {
   "cell_type": "markdown",
   "metadata": {},
   "source": [
    "# Get value"
   ]
  },
  {
   "cell_type": "code",
   "execution_count": 62,
   "metadata": {},
   "outputs": [
    {
     "name": "stdout",
     "output_type": "stream",
     "text": [
      "4\n",
      "4\n"
     ]
    }
   ],
   "source": [
    "a = np.array([ [0, 1, 2],[3, 4, 5],[6, 7, 8] ])\n",
    "print(a[1,1])\n",
    "print(a[1][1])"
   ]
  },
  {
   "cell_type": "code",
   "execution_count": 67,
   "metadata": {},
   "outputs": [
    {
     "name": "stdout",
     "output_type": "stream",
     "text": [
      "[3 4 5] <class 'numpy.ndarray'>\n"
     ]
    }
   ],
   "source": [
    "a = np.array([ [0, 1, 2],[3, 4, 5],[6, 7, 8] ])\n",
    "print(a[1],type(a[1]))\n"
   ]
  },
  {
   "cell_type": "markdown",
   "metadata": {},
   "source": [
    "# reshape"
   ]
  },
  {
   "cell_type": "code",
   "execution_count": 71,
   "metadata": {
    "scrolled": true
   },
   "outputs": [
    {
     "name": "stdout",
     "output_type": "stream",
     "text": [
      "array:\n",
      " [0 1 2 3 4 5] shape = (6,)\n",
      "array:\n",
      " [[0 1 2]\n",
      " [3 4 5]] shape = (2, 3)\n",
      "array:\n",
      " [[0 1]\n",
      " [2 3]\n",
      " [4 5]] shape = (3, 2)\n"
     ]
    }
   ],
   "source": [
    "a = np.arange(6)   ; print(\"array:\\n\", a, 'shape =', a.shape)\n",
    "a = a.reshape(2,3) ; print(\"array:\\n\", a, 'shape =', a.shape)\n",
    "a = a.reshape(3,2) ; print(\"array:\\n\", a, 'shape =', a.shape)"
   ]
  },
  {
   "cell_type": "code",
   "execution_count": 97,
   "metadata": {},
   "outputs": [
    {
     "name": "stdout",
     "output_type": "stream",
     "text": [
      "[0 1 2 3 4 5] , shape = (6,)\n",
      "[[0 1 2 3 4 5]] , shape = (1, 6)\n",
      "[[0]\n",
      " [1]\n",
      " [2]\n",
      " [3]\n",
      " [4]\n",
      " [5]] , shape = (6, 1)\n"
     ]
    }
   ],
   "source": [
    "#1-Dimension\n",
    "a = np.arange(6)              ; print(a, ', shape =', a.shape)\n",
    "#2-Dimension\n",
    "a = np.arange(6).reshape(1,6) ; print(a, ', shape =', a.shape)\n",
    "a = np.arange(6).reshape(6,1) ; print(a, ', shape =', a.shape)"
   ]
  },
  {
   "cell_type": "markdown",
   "metadata": {},
   "source": [
    "# Index"
   ]
  },
  {
   "cell_type": "code",
   "execution_count": null,
   "metadata": {},
   "outputs": [],
   "source": [
    "a = np.array([[0, 0, 0], [0, 1, 0], [0, 0, 2]])\n",
    "a[1, 1] ; print(a)\n",
    "a[2, 1] ; print(a)\n",
    "a[1]    ; print(a)"
   ]
  },
  {
   "attachments": {},
   "cell_type": "markdown",
   "metadata": {},
   "source": [
    "# Slice"
   ]
  },
  {
   "cell_type": "code",
   "execution_count": 105,
   "metadata": {},
   "outputs": [
    {
     "name": "stdout",
     "output_type": "stream",
     "text": [
      "[2 3]\n",
      "[[18 19]\n",
      " [23 24]]\n",
      "[ 1  6 11 16 21]\n",
      "[[10 12 14]\n",
      " [20 22 24]]\n"
     ]
    }
   ],
   "source": [
    "a = np.arange(25).reshape(5,5)\n",
    "print(a[0, 2:4])\n",
    "print(a[3:, 3:])\n",
    "print(a[:, 1])\n",
    "print(a[2::2, ::2])"
   ]
  },
  {
   "attachments": {},
   "cell_type": "markdown",
   "metadata": {},
   "source": [
    "# Matrix-Scalar Operations"
   ]
  },
  {
   "cell_type": "code",
   "execution_count": 78,
   "metadata": {},
   "outputs": [
    {
     "name": "stdout",
     "output_type": "stream",
     "text": [
      "[[1 2 3]\n",
      " [4 5 6]\n",
      " [7 8 9]]\n",
      "[[ 0  2  4]\n",
      " [ 6  8 10]\n",
      " [12 14 16]]\n",
      "[[ 0  1  4]\n",
      " [ 9 16 25]\n",
      " [36 49 64]]\n",
      "[[  1   2   4]\n",
      " [  8  16  32]\n",
      " [ 64 128 256]]\n"
     ]
    }
   ],
   "source": [
    "a = np.arange(9).reshape(3,3)\n",
    "b = a + 1   ; print(b)\n",
    "c = a * 2   ; print(c)\n",
    "d = a ** 2  ; print(d)\n",
    "e = 2 ** a  ; print(e)"
   ]
  },
  {
   "attachments": {},
   "cell_type": "markdown",
   "metadata": {},
   "source": [
    "# Matrix-Matrix Operations"
   ]
  },
  {
   "cell_type": "code",
   "execution_count": null,
   "metadata": {},
   "outputs": [],
   "source": [
    "a = np.arange(9).reshape(3,3)\n",
    "b = np.ones(9).reshape(3,3)+1\n",
    "\n",
    "print(a – b)\n",
    "print(a * b)\n",
    "print(a @ b)"
   ]
  }
 ],
 "metadata": {
  "kernelspec": {
   "display_name": "Python 3",
   "language": "python",
   "name": "python3"
  },
  "language_info": {
   "codemirror_mode": {
    "name": "ipython",
    "version": 3
   },
   "file_extension": ".py",
   "mimetype": "text/x-python",
   "name": "python",
   "nbconvert_exporter": "python",
   "pygments_lexer": "ipython3",
   "version": "3.7.4"
  }
 },
 "nbformat": 4,
 "nbformat_minor": 2
}
