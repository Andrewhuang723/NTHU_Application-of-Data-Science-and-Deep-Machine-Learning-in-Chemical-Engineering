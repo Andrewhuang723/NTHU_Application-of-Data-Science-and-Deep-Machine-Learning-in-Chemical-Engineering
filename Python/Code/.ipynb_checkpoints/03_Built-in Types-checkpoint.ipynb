{
 "cells": [
  {
   "cell_type": "markdown",
   "metadata": {},
   "source": [
    "# Variable"
   ]
  },
  {
   "cell_type": "code",
   "execution_count": 1,
   "metadata": {},
   "outputs": [],
   "source": [
    "rho           = 997 #kg/m^3\n",
    "velocity      = 1.00 #m/s\n",
    "diameter      = 0.08 #80mm\n",
    "viscosity     = 0.98 #cP\n",
    "Renold_number = rho * velocity * diameter / viscosity"
   ]
  },
  {
   "cell_type": "markdown",
   "metadata": {},
   "source": [
    "# Mutability"
   ]
  },
  {
   "cell_type": "code",
   "execution_count": 2,
   "metadata": {
    "scrolled": true
   },
   "outputs": [
    {
     "name": "stdout",
     "output_type": "stream",
     "text": [
      "Print1: a = [1] , b = [1] , c = [1]\n",
      "Print2: a = [2] , b = [2] , c = [2]\n",
      "Print3: a = [3] , b = [3] , c = [3]\n",
      "Print4: a = [4] , b = [4] , c = [4]\n"
     ]
    }
   ],
   "source": [
    "a = [1,]\n",
    "c = b = a #a must be placed at the last position\n",
    "print('Print1:', 'a =', a, ', b =', b, ', c =', c)\n",
    "\n",
    "a[0] = 2\n",
    "print('Print2:', 'a =', a, ', b =', b, ', c =', c)\n",
    "\n",
    "b[0] = 3\n",
    "print('Print3:', 'a =', a, ', b =', b, ', c =', c)\n",
    "\n",
    "c[0] = 4\n",
    "print('Print4:', 'a =', a, ', b =', b, ', c =', c)"
   ]
  },
  {
   "cell_type": "markdown",
   "metadata": {},
   "source": [
    "# Dynamic"
   ]
  },
  {
   "cell_type": "code",
   "execution_count": 3,
   "metadata": {
    "scrolled": true
   },
   "outputs": [
    {
     "name": "stdout",
     "output_type": "stream",
     "text": [
      "Print1: a = [1] , b = [1] , c = [1]\n",
      "Print2: a = [1, 2] , b = [1, 2] , c = [1, 2]\n",
      "Print3: a = [1, 2, 3] , b = [1, 2, 3] , c = [1, 2, 3]\n"
     ]
    }
   ],
   "source": [
    "a = [1,]\n",
    "c = b = a #a must be placed at the last position\n",
    "print('Print1:', 'a =', a, ', b =', b, ', c =', c)\n",
    "\n",
    "a.append(2) \n",
    "print('Print2:', 'a =', a, ', b =', b, ', c =', c)\n",
    "\n",
    "b += [3]\n",
    "print('Print3:', 'a =', a, ', b =', b, ', c =', c)"
   ]
  },
  {
   "cell_type": "markdown",
   "metadata": {},
   "source": [
    "# = vs. +="
   ]
  },
  {
   "cell_type": "code",
   "execution_count": 4,
   "metadata": {},
   "outputs": [
    {
     "name": "stdout",
     "output_type": "stream",
     "text": [
      "Print1: a = [1] , b = [1] , c = [1]\n",
      "Print2: a = [1, 2] , b = [1, 2] , c = [1, 2]\n",
      "Print3: a = [1, 2] , b = [1, 2] , c = [1, 2, 3]\n"
     ]
    }
   ],
   "source": [
    "a = [1,]\n",
    "c = b = a #a must be placed at the last position\n",
    "print('Print1:', 'a =', a, ', b =', b, ', c =', c)\n",
    "\n",
    "b += [2,] #List mutable\n",
    "print('Print2:', 'a =', a, ', b =', b, ', c =', c)\n",
    "\n",
    "c = a + [3,]\n",
    "print('Print3:', 'a =', a, ', b =', b, ', c =', c)"
   ]
  },
  {
   "cell_type": "code",
   "execution_count": 5,
   "metadata": {},
   "outputs": [
    {
     "name": "stdout",
     "output_type": "stream",
     "text": [
      "Print1: a = [1] , b = [1] , c = [1]\n",
      "Print2: a = [3] , b = [3] , c = [3]\n",
      "Print3: a = [3] , b = [3] , c = [3, 4]\n"
     ]
    }
   ],
   "source": [
    "a = [1,]\n",
    "c = b = a #a must be placed at the last position\n",
    "print('Print1:', 'a =', a, ', b =', b, ', c =', c)\n",
    "\n",
    "b[0] = b[0] + 2 #List mutable\n",
    "print('Print2:', 'a =', a, ', b =', b, ', c =', c)\n",
    "\n",
    "c = a + [4,]\n",
    "print('Print3:', 'a =', a, ', b =', b, ', c =', c)"
   ]
  },
  {
   "cell_type": "markdown",
   "metadata": {},
   "source": [
    "# List Copy"
   ]
  },
  {
   "cell_type": "code",
   "execution_count": 6,
   "metadata": {},
   "outputs": [
    {
     "name": "stdout",
     "output_type": "stream",
     "text": [
      "Print: a = [1, 2] , b = [1] , c = [1] , d = [1]\n"
     ]
    }
   ],
   "source": [
    "a = [1,]\n",
    "b = list(a)\n",
    "c = a[:]\n",
    "d = a.copy()\n",
    "\n",
    "a += [2,]\n",
    "print('Print:', 'a =', a, ', b =', b, ', c =', c, ', d =', d)"
   ]
  },
  {
   "cell_type": "markdown",
   "metadata": {},
   "source": [
    "# Shallow Copy vs. Deep Copy"
   ]
  },
  {
   "cell_type": "code",
   "execution_count": 7,
   "metadata": {},
   "outputs": [
    {
     "name": "stdout",
     "output_type": "stream",
     "text": [
      "Shallow copy: a = [1, [2, 3]] , b = [1, [2, 3]]\n",
      "Shallow copy: a = [1, [2, 6]] , b = [5, [2, 6]]\n",
      "Deep copy: a = [1, [2, 3]] , b = [1, [2, 3]]\n",
      "Deep copy: a = [1, [2, 3]] , b = [5, [2, 6]]\n"
     ]
    }
   ],
   "source": [
    "a = [1,[2,3]]\n",
    "b = a.copy()\n",
    "print('Shallow copy: a =', a, ', b =',b)\n",
    "\n",
    "b[0] = 5\n",
    "b[1][1] = 6\n",
    "print('Shallow copy: a =', a, ', b =',b)\n",
    "\n",
    "import copy\n",
    "a = [1,[2,3]]\n",
    "b = copy.deepcopy(a)\n",
    "print('Deep copy: a =', a, ', b =',b)\n",
    "\n",
    "b[0] = 5\n",
    "b[1][1] = 6\n",
    "print('Deep copy: a =', a, ', b =',b)"
   ]
  },
  {
   "cell_type": "markdown",
   "metadata": {},
   "source": [
    "# Mutability vs Immutability"
   ]
  },
  {
   "cell_type": "markdown",
   "metadata": {},
   "source": [
    "# List"
   ]
  },
  {
   "cell_type": "code",
   "execution_count": 8,
   "metadata": {},
   "outputs": [
    {
     "name": "stdout",
     "output_type": "stream",
     "text": [
      "Print1: a = [1] , b = [1]\n",
      "Print2: a = [1, 2] , b = [1, 2]\n"
     ]
    }
   ],
   "source": [
    "a = [1,]\n",
    "b = a #a must be placed at the last position\n",
    "print('Print1:', 'a =', a, ', b =', b)\n",
    "\n",
    "a += [2,]\n",
    "print('Print2:', 'a =', a, ', b =', b)"
   ]
  },
  {
   "cell_type": "markdown",
   "metadata": {},
   "source": [
    "# Tuple"
   ]
  },
  {
   "cell_type": "code",
   "execution_count": 9,
   "metadata": {},
   "outputs": [
    {
     "name": "stdout",
     "output_type": "stream",
     "text": [
      "Print1: a = (1,) , b = (1,)\n",
      "Print2: a = (1, 2) , b = (1,)\n"
     ]
    }
   ],
   "source": [
    "a = (1,)\n",
    "b = a #a must be placed at the last position\n",
    "print('Print1:', 'a =', a, ', b =', b)\n",
    "\n",
    "a += (2,)\n",
    "print('Print2:', 'a =', a, ', b =', b)"
   ]
  },
  {
   "cell_type": "markdown",
   "metadata": {},
   "source": [
    "# Reassigning Tuples"
   ]
  },
  {
   "cell_type": "code",
   "execution_count": 10,
   "metadata": {},
   "outputs": [
    {
     "ename": "TypeError",
     "evalue": "'tuple' object does not support item assignment",
     "output_type": "error",
     "traceback": [
      "\u001b[0;31m---------------------------------------------------\u001b[0m",
      "\u001b[0;31mTypeError\u001b[0m         Traceback (most recent call last)",
      "\u001b[0;32m<ipython-input-10-5b7261a67da2>\u001b[0m in \u001b[0;36m<module>\u001b[0;34m\u001b[0m\n\u001b[1;32m      1\u001b[0m \u001b[0ma\u001b[0m \u001b[0;34m=\u001b[0m \u001b[0;34m(\u001b[0m\u001b[0;36m1\u001b[0m\u001b[0;34m,\u001b[0m \u001b[0;36m2\u001b[0m\u001b[0;34m,\u001b[0m \u001b[0;36m3\u001b[0m\u001b[0;34m,\u001b[0m \u001b[0;34m[\u001b[0m\u001b[0;36m4\u001b[0m\u001b[0;34m,\u001b[0m \u001b[0;36m5\u001b[0m\u001b[0;34m]\u001b[0m\u001b[0;34m)\u001b[0m\u001b[0;34m\u001b[0m\u001b[0;34m\u001b[0m\u001b[0m\n\u001b[0;32m----> 2\u001b[0;31m \u001b[0ma\u001b[0m\u001b[0;34m[\u001b[0m\u001b[0;36m3\u001b[0m\u001b[0;34m]\u001b[0m \u001b[0;34m=\u001b[0m \u001b[0;36m6\u001b[0m\u001b[0;34m\u001b[0m\u001b[0;34m\u001b[0m\u001b[0m\n\u001b[0m",
      "\u001b[0;31mTypeError\u001b[0m: 'tuple' object does not support item assignment"
     ]
    }
   ],
   "source": [
    "a = (1, 2, 3, [4, 5])\n",
    "a[3] = 6"
   ]
  },
  {
   "cell_type": "code",
   "execution_count": 11,
   "metadata": {},
   "outputs": [
    {
     "name": "stdout",
     "output_type": "stream",
     "text": [
      "(1, 2, 3, [6, 5])\n"
     ]
    }
   ],
   "source": [
    "a = (1, 2, 3, [4, 5])\n",
    "a[3][0] = 6           ; print(a)"
   ]
  },
  {
   "cell_type": "markdown",
   "metadata": {},
   "source": [
    "# Nest Dict { }"
   ]
  },
  {
   "cell_type": "code",
   "execution_count": 12,
   "metadata": {
    "scrolled": true
   },
   "outputs": [
    {
     "name": "stdout",
     "output_type": "stream",
     "text": [
      "Jay\n",
      "['Peter', 'Lynn']\n",
      "Peter\n",
      "{'bro': 'Ping', 'sis': 'Xi'}\n",
      "Ping\n"
     ]
    }
   ],
   "source": [
    "family = {'grandpa': 'Jay', 'parent':['Peter', 'Lynn'], 'children':{'bro': 'Ping', 'sis': 'Xi'}}\n",
    "family['grandpa']         ; print(family['grandpa'])\n",
    "family['parent']          ; print(family['parent'])\n",
    "family['parent'][0]       ; print(family['parent'][0])\n",
    "family['children']        ; print(family['children'])\n",
    "family['children']['bro'] ; print(family['children']['bro'])"
   ]
  },
  {
   "cell_type": "markdown",
   "metadata": {},
   "source": [
    "# Dynamic"
   ]
  },
  {
   "cell_type": "markdown",
   "metadata": {},
   "source": [
    "## update"
   ]
  },
  {
   "cell_type": "code",
   "execution_count": 13,
   "metadata": {},
   "outputs": [
    {
     "name": "stdout",
     "output_type": "stream",
     "text": [
      "{'a': 1, 'b': 2, 'c': 3}\n"
     ]
    }
   ],
   "source": [
    "a = {'a':1}\n",
    "b = {'b':2, 'c':3}\n",
    "a.update(b)\n",
    "print(a)\n"
   ]
  },
  {
   "cell_type": "markdown",
   "metadata": {},
   "source": [
    "## del"
   ]
  },
  {
   "cell_type": "code",
   "execution_count": 14,
   "metadata": {},
   "outputs": [
    {
     "name": "stdout",
     "output_type": "stream",
     "text": [
      "{'one': 1}\n"
     ]
    }
   ],
   "source": [
    "a = {'zero':0, 'one':1}\n",
    " \n",
    "del a['zero']\n",
    "print(a)"
   ]
  }
 ],
 "metadata": {
  "kernelspec": {
   "display_name": "Python 3",
   "language": "python",
   "name": "python3"
  },
  "language_info": {
   "codemirror_mode": {
    "name": "ipython",
    "version": 3
   },
   "file_extension": ".py",
   "mimetype": "text/x-python",
   "name": "python",
   "nbconvert_exporter": "python",
   "pygments_lexer": "ipython3",
   "version": "3.7.4"
  }
 },
 "nbformat": 4,
 "nbformat_minor": 2
}
