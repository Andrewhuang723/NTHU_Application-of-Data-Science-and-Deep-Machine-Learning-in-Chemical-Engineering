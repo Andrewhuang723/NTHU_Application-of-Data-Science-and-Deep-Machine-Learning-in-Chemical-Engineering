{
 "cells": [
  {
   "cell_type": "markdown",
   "metadata": {},
   "source": [
    "# Integer-valued random"
   ]
  },
  {
   "cell_type": "code",
   "execution_count": 1,
   "metadata": {},
   "outputs": [
    {
     "name": "stdout",
     "output_type": "stream",
     "text": [
      "1\n"
     ]
    }
   ],
   "source": [
    "import random \n",
    "\n",
    "print(random.randint(0,1))"
   ]
  },
  {
   "cell_type": "code",
   "execution_count": 2,
   "metadata": {},
   "outputs": [
    {
     "name": "stdout",
     "output_type": "stream",
     "text": [
      "1\n",
      "2\n",
      "1\n"
     ]
    }
   ],
   "source": [
    "import random \n",
    "\n",
    "print( random.randrange(2) )\n",
    "print( random.randrange(2,6,2) )\n",
    "print( random.randint(0,1) )"
   ]
  },
  {
   "cell_type": "markdown",
   "metadata": {},
   "source": [
    "# Real-valued random"
   ]
  },
  {
   "cell_type": "code",
   "execution_count": 3,
   "metadata": {},
   "outputs": [
    {
     "name": "stdout",
     "output_type": "stream",
     "text": [
      "0.9024995660600589\n",
      "1.0358313069382568\n"
     ]
    }
   ],
   "source": [
    "import random \n",
    "\n",
    "print( random.random() ) #[0.0, 1.0)\n",
    "print( random.uniform(1, 2) ) #Return a random floating point number N such that a <= N <= b for a <= b and b <= N <= a for b < a"
   ]
  },
  {
   "cell_type": "markdown",
   "metadata": {},
   "source": [
    "# Functions for sequences"
   ]
  },
  {
   "cell_type": "code",
   "execution_count": 4,
   "metadata": {},
   "outputs": [
    {
     "name": "stdout",
     "output_type": "stream",
     "text": [
      "1\n",
      "['5', '5', '3']\n",
      "['5', '4', '3']\n"
     ]
    }
   ],
   "source": [
    "sample = ['1', '2', '3', '4', '5']\n",
    "\n",
    "print(random.choice(sample))\n",
    "print( random.choices(sample, k=3) ) \n",
    "print( random.sample(sample, k=3) )"
   ]
  },
  {
   "cell_type": "code",
   "execution_count": 5,
   "metadata": {},
   "outputs": [
    {
     "name": "stdout",
     "output_type": "stream",
     "text": [
      "['1', '4', '3', '2', '5']\n"
     ]
    }
   ],
   "source": [
    "sample = ['1', '2', '3', '4', '5']\n",
    "\n",
    "random.shuffle(sample)\n",
    "print(sample)"
   ]
  },
  {
   "cell_type": "markdown",
   "metadata": {},
   "source": [
    "# Functions for Numpy"
   ]
  },
  {
   "cell_type": "code",
   "execution_count": 6,
   "metadata": {},
   "outputs": [
    {
     "name": "stdout",
     "output_type": "stream",
     "text": [
      "[4 4 2]\n",
      "[4 4 3]\n",
      "[[2 1 4 3]\n",
      " [2 0 1 2]]\n",
      "0.19353412566888384\n",
      "[[0.12063267]\n",
      " [0.11549127]]\n"
     ]
    }
   ],
   "source": [
    "import numpy as np\n",
    "\n",
    "'''random integers'''\n",
    "print( np.random.randint(5, size=3) )\n",
    "print( np.random.randint(3, 5, size=3) )\n",
    "print( np.random.randint(5, size=(2, 4)) )\n",
    "\n",
    "'''Random [0, 1) in a given shape'''\n",
    "print( np.random.rand() )\n",
    "print( np.random.rand(2,1) )\n"
   ]
  }
 ],
 "metadata": {
  "kernelspec": {
   "display_name": "Python 3",
   "language": "python",
   "name": "python3"
  },
  "language_info": {
   "codemirror_mode": {
    "name": "ipython",
    "version": 3
   },
   "file_extension": ".py",
   "mimetype": "text/x-python",
   "name": "python",
   "nbconvert_exporter": "python",
   "pygments_lexer": "ipython3",
   "version": "3.7.4"
  }
 },
 "nbformat": 4,
 "nbformat_minor": 2
}
